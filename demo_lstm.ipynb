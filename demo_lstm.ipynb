{
 "cells": [
  {
   "cell_type": "code",
   "execution_count": 1,
   "metadata": {},
   "outputs": [],
   "source": [
    "import numpy as np\n",
    "import tensorflow as tf\n",
    "from tensorflow.keras.models import Sequential\n",
    "from tensorflow.keras.callbacks import ModelCheckpoint\n",
    "from tensorflow.keras.utils import to_categorical\n",
    "from tensorflow.keras.layers import Embedding, LSTM, Dense\n",
    "from tensorflow.keras.models import load_model\n",
    "\n",
    "import pickle"
   ]
  },
  {
   "cell_type": "code",
   "execution_count": 2,
   "metadata": {},
   "outputs": [],
   "source": [
    "# load the word_to_id mapping from a file\n",
    "with open('utils/word_to_id_mapping.pkl', 'rb') as f:\n",
    "    word_to_id = pickle.load(f)\n",
    "\n",
    "# load the id_to_word mapping from a file\n",
    "with open('utils/id_to_word_mapping.pkl', 'rb') as f:\n",
    "    id_to_word = pickle.load(f)\n",
    "    \n",
    "# load the tokenized sentences from a file\n",
    "with open('utils/tokenized_sentences.pkl', 'rb') as f:\n",
    "    tokenized_sentences = pickle.load(f)\n",
    "\n",
    "# load the sentences from a file\n",
    "with open('utils/sentences.pkl', 'rb') as f:\n",
    "    sentences = pickle.load(f)"
   ]
  },
  {
   "cell_type": "markdown",
   "metadata": {},
   "source": [
    "## LSTM"
   ]
  },
  {
   "cell_type": "code",
   "execution_count": 6,
   "metadata": {},
   "outputs": [
    {
     "name": "stdout",
     "output_type": "stream",
     "text": [
      "\n",
      "dawno dawno temu nie ma w warszawie i nie było żywej duszy że nie ma ani czasu na to nie było najmniejszego śladu i i nie było ani ani przytomności i nie nie ani końca nie nie nie nie nie wrotach równi akela dziesiąta i mija poczciwi rzędu uniesieniu komendancie land to weń\n"
     ]
    }
   ],
   "source": [
    "model = load_model('model_checkpoint_30.h5')\n",
    "\n",
    "sentence = ['dawno', 'dawno', 'temu'] \n",
    "seed_context = [word_to_id[word] for word in sentence if word in word_to_id]\n",
    "\n",
    "max_sentence_length = 40\n",
    "\n",
    "num_words_to_generate = 50  # Adjust as needed\n",
    "\n",
    "sentence_added = 'dawno dawno temu'\n",
    "for _ in range(num_words_to_generate):\n",
    "    padded_context = np.array([seed_context + [word_to_id['<PAD>']] * (max_sentence_length - len(seed_context))])\n",
    "    predicted_probs = model.predict(padded_context, verbose=0)\n",
    "    predicted_word_id = np.argmax(predicted_probs)\n",
    "    predicted_word = id_to_word[predicted_word_id] \n",
    "    sentence_added += \" \" + predicted_word\n",
    "    seed_context.append(predicted_word_id)\n",
    "    seed_context = seed_context[-max_sentence_length:] \n",
    "print()\n",
    "print(sentence_added)"
   ]
  }
 ],
 "metadata": {
  "kernelspec": {
   "display_name": "myenv",
   "language": "python",
   "name": "python3"
  },
  "language_info": {
   "codemirror_mode": {
    "name": "ipython",
    "version": 3
   },
   "file_extension": ".py",
   "mimetype": "text/x-python",
   "name": "python",
   "nbconvert_exporter": "python",
   "pygments_lexer": "ipython3",
   "version": "3.10.6"
  },
  "orig_nbformat": 4
 },
 "nbformat": 4,
 "nbformat_minor": 2
}
